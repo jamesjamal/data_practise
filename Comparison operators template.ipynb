{
 "cells": [
  {
   "cell_type": "markdown",
   "metadata": {},
   "source": [
    "# Comparison Operators"
   ]
  },
  {
   "cell_type": "code",
   "execution_count": 2,
   "metadata": {},
   "outputs": [
    {
     "data": {
      "text/plain": [
       "array([16.983, 11.424, 21.573, 14.256, 25.272])"
      ]
     },
     "execution_count": 2,
     "metadata": {},
     "output_type": "execute_result"
    }
   ],
   "source": [
    "import numpy as np\n",
    "np_length = np.array([2.7, 3.4, 4.7, 6.6, 7.8])\n",
    "np_breath = np.array([3.7, 1.4, 2.7, 3.6, 1.8])\n",
    "np_height = np.array([1.7, 2.4, 1.7, 0.6, 1.8])\n",
    "vol_cuboid = np_length * np_breath * np_height\n",
    "vol_cuboid"
   ]
  },
  {
   "cell_type": "markdown",
   "metadata": {},
   "source": [
    "Q1. Show the vol_cuboid which are greater than 15 (2 marks)"
   ]
  },
  {
   "cell_type": "code",
   "execution_count": 52,
   "metadata": {},
   "outputs": [
    {
     "data": {
      "text/plain": [
       "array([16.983, 21.573, 25.272])"
      ]
     },
     "execution_count": 52,
     "metadata": {},
     "output_type": "execute_result"
    }
   ],
   "source": [
    "## Start code here\n",
    "vol_cuboid_grt_15=vol_cuboid[vol_cuboid>15]\n",
    "vol_cuboid_grt_15\n",
    "## End here"
   ]
  },
  {
   "cell_type": "markdown",
   "metadata": {},
   "source": [
    "## Numeric & Variable Comparison"
   ]
  },
  {
   "cell_type": "markdown",
   "metadata": {},
   "source": [
    "Using comparison operators show:\n",
    "\n",
    "Q1. If 10.5 is greater thean 10 (1 mark)\n",
    "\n",
    "Q2. If 10.5 is greater than equal to 10.5 (1 mark)\n",
    "\n",
    "Q3. If 20 is equal to 20.1 (1 mark)\n",
    "\n",
    "Q4. If Ansh is greater than Anshu (1 mark)\n",
    "\n",
    "Q5. If Monkey is greater than 5 (1 mark)"
   ]
  },
  {
   "cell_type": "code",
   "execution_count": 17,
   "metadata": {},
   "outputs": [
    {
     "name": "stdout",
     "output_type": "stream",
     "text": [
      "10.5 is greter thn 10\n"
     ]
    },
    {
     "data": {
      "text/plain": [
       "True"
      ]
     },
     "execution_count": 17,
     "metadata": {},
     "output_type": "execute_result"
    }
   ],
   "source": [
    "# 1\n",
    "## Start code here\n",
    "\n",
    "if (10.5>10):\n",
    "    print(\"10.5 is greter thn 10\")\n",
    "else:\n",
    "    print(\"10 is greter\")\n",
    "\n",
    "10.5>10\n",
    "    \n",
    "\n",
    "## End here"
   ]
  },
  {
   "cell_type": "code",
   "execution_count": 18,
   "metadata": {},
   "outputs": [
    {
     "data": {
      "text/plain": [
       "True"
      ]
     },
     "execution_count": 18,
     "metadata": {},
     "output_type": "execute_result"
    }
   ],
   "source": [
    "# 2\n",
    "## Start code here\n",
    "\n",
    "10.5>=10.5\n",
    "\n",
    "## End here"
   ]
  },
  {
   "cell_type": "code",
   "execution_count": 19,
   "metadata": {},
   "outputs": [
    {
     "data": {
      "text/plain": [
       "False"
      ]
     },
     "execution_count": 19,
     "metadata": {},
     "output_type": "execute_result"
    }
   ],
   "source": [
    "# 3\n",
    "## Start code here\n",
    "\n",
    "20 == 20.1\n",
    "\n",
    "## End here"
   ]
  },
  {
   "cell_type": "code",
   "execution_count": 21,
   "metadata": {},
   "outputs": [
    {
     "data": {
      "text/plain": [
       "False"
      ]
     },
     "execution_count": 21,
     "metadata": {},
     "output_type": "execute_result"
    }
   ],
   "source": [
    "# 4\n",
    "## Start code here\n",
    "\n",
    "'Ansh' >'Anshu'\n",
    "\n",
    "## End here"
   ]
  },
  {
   "cell_type": "code",
   "execution_count": 174,
   "metadata": {},
   "outputs": [
    {
     "data": {
      "text/plain": [
       "True"
      ]
     },
     "execution_count": 174,
     "metadata": {},
     "output_type": "execute_result"
    }
   ],
   "source": [
    "# 5\n",
    "## Start code here\n",
    "'monkey'>'5'\n",
    "## End here"
   ]
  },
  {
   "cell_type": "markdown",
   "metadata": {},
   "source": [
    "## Boolean Operators\n",
    "\n",
    "1. and\n",
    "2. or\n",
    "3. not"
   ]
  },
  {
   "cell_type": "markdown",
   "metadata": {},
   "source": [
    "Q1. Use \"and\" operator to check if x is greater than 2 and less than 10. (1 mark)\n",
    "\n",
    "Q2. Use \"or\" operator to check if x is grater than 3 and less than 10. (1 mark)\n",
    "\n",
    "Q3. Use \"not\" operator to check if x is greater than 5 and less than 8. (1 mark)"
   ]
  },
  {
   "cell_type": "code",
   "execution_count": 44,
   "metadata": {},
   "outputs": [
    {
     "data": {
      "text/plain": [
       "False"
      ]
     },
     "execution_count": 44,
     "metadata": {},
     "output_type": "execute_result"
    }
   ],
   "source": [
    "# 1\n",
    "## Start code here\n",
    "x=10\n",
    "\n",
    "x>2 and x < 10\n",
    "\n",
    "## End here"
   ]
  },
  {
   "cell_type": "code",
   "execution_count": 45,
   "metadata": {},
   "outputs": [
    {
     "data": {
      "text/plain": [
       "False"
      ]
     },
     "execution_count": 45,
     "metadata": {},
     "output_type": "execute_result"
    }
   ],
   "source": [
    "# 2\n",
    "## Start code here\n",
    "x>3 and x<10\n",
    "## End here"
   ]
  },
  {
   "cell_type": "code",
   "execution_count": 46,
   "metadata": {},
   "outputs": [
    {
     "data": {
      "text/plain": [
       "False"
      ]
     },
     "execution_count": 46,
     "metadata": {},
     "output_type": "execute_result"
    }
   ],
   "source": [
    "# 3\n",
    "## Start code here\n",
    "x>5 and x< 8\n",
    "## End here"
   ]
  },
  {
   "cell_type": "markdown",
   "metadata": {},
   "source": [
    "## Numpy\n",
    "\n",
    "1. logical_and()\n",
    "2. logical_or()\n",
    "3. logical_not()"
   ]
  },
  {
   "cell_type": "markdown",
   "metadata": {},
   "source": [
    "Q1. Use the logical_and operator to check if vol_cuboid is greater than 11 and less than 20. (1 mark)\n",
    "\n",
    "Q2. Use the logical_or operator to check if vol_cuboid is greater than 11 and less than 20. (1 mark)\n",
    "\n",
    "Q3. Use the logical_not operator to check if vol_cuboid is greater than 11 and less than 20. (1 mark)"
   ]
  },
  {
   "cell_type": "code",
   "execution_count": 62,
   "metadata": {},
   "outputs": [
    {
     "data": {
      "text/plain": [
       "array([ True,  True, False,  True, False])"
      ]
     },
     "execution_count": 62,
     "metadata": {},
     "output_type": "execute_result"
    }
   ],
   "source": [
    "# 1\n",
    "## Start code here\n",
    "\n",
    "np.logical_and(vol_cuboid > 11,  vol_cuboid <20)\n",
    "\n",
    "\n",
    "\n",
    "## End here"
   ]
  },
  {
   "cell_type": "code",
   "execution_count": 63,
   "metadata": {},
   "outputs": [
    {
     "data": {
      "text/plain": [
       "array([ True,  True,  True,  True,  True])"
      ]
     },
     "execution_count": 63,
     "metadata": {},
     "output_type": "execute_result"
    }
   ],
   "source": [
    "# 2\n",
    "## Start code here\n",
    "\n",
    "np.logical_or(vol_cuboid > 11,  vol_cuboid <20)\n",
    "\n",
    "## End here"
   ]
  },
  {
   "cell_type": "code",
   "execution_count": 64,
   "metadata": {},
   "outputs": [
    {
     "data": {
      "text/plain": [
       "array([False, False, False, False, False])"
      ]
     },
     "execution_count": 64,
     "metadata": {},
     "output_type": "execute_result"
    }
   ],
   "source": [
    "# 3\n",
    "## Start code here\n",
    "\n",
    "np.logical_not(vol_cuboid > 11,  vol_cuboid <20)\n",
    "\n",
    "## End here"
   ]
  },
  {
   "cell_type": "markdown",
   "metadata": {},
   "source": [
    "## if , elif , else"
   ]
  },
  {
   "cell_type": "code",
   "execution_count": 96,
   "metadata": {},
   "outputs": [],
   "source": [
    "a = 100\n",
    "b = 10"
   ]
  },
  {
   "cell_type": "markdown",
   "metadata": {},
   "source": [
    "Q1. Use if condition statment to check if a is greater than b and print the greatest number. (1 mark)\n",
    "\n",
    "Q2. Use else condition statment to check if b is greater or less than a and print the greatest number. (1 mark)\n",
    "\n",
    "Q3. Use elif condition statment to check if b is greater , less than or equal to a and print the greatest number. (1 mark)"
   ]
  },
  {
   "cell_type": "code",
   "execution_count": 171,
   "metadata": {},
   "outputs": [
    {
     "name": "stdout",
     "output_type": "stream",
     "text": [
      "100\n"
     ]
    }
   ],
   "source": [
    "# 1\n",
    "## Start code here\n",
    "\n",
    "if a> b:\n",
    "    print(a)\n",
    "\n",
    "## End here"
   ]
  },
  {
   "cell_type": "code",
   "execution_count": 169,
   "metadata": {},
   "outputs": [
    {
     "name": "stdout",
     "output_type": "stream",
     "text": [
      "100\n"
     ]
    }
   ],
   "source": [
    "# 2\n",
    "## Start code here\n",
    "\n",
    "\n",
    "\n",
    "if(b>a) or (b<a):\n",
    "    print(a)\n",
    "    \n",
    "\n",
    "\n",
    "\n",
    "\n",
    "## End here"
   ]
  },
  {
   "cell_type": "code",
   "execution_count": 170,
   "metadata": {},
   "outputs": [
    {
     "name": "stdout",
     "output_type": "stream",
     "text": [
      "100\n"
     ]
    }
   ],
   "source": [
    "# 3\n",
    "## Start code here\n",
    "\n",
    "\n",
    "\n",
    "if b>=a or b<a:\n",
    "    print(a)\n",
    "\n",
    "## End here"
   ]
  },
  {
   "cell_type": "markdown",
   "metadata": {},
   "source": [
    "## Filtering pandas Dataframes"
   ]
  },
  {
   "cell_type": "code",
   "execution_count": 114,
   "metadata": {},
   "outputs": [
    {
     "data": {
      "text/html": [
       "<div>\n",
       "<style scoped>\n",
       "    .dataframe tbody tr th:only-of-type {\n",
       "        vertical-align: middle;\n",
       "    }\n",
       "\n",
       "    .dataframe tbody tr th {\n",
       "        vertical-align: top;\n",
       "    }\n",
       "\n",
       "    .dataframe thead th {\n",
       "        text-align: right;\n",
       "    }\n",
       "</style>\n",
       "<table border=\"1\" class=\"dataframe\">\n",
       "  <thead>\n",
       "    <tr style=\"text-align: right;\">\n",
       "      <th></th>\n",
       "      <th>Name</th>\n",
       "      <th>Degree</th>\n",
       "      <th>College</th>\n",
       "      <th>Score</th>\n",
       "    </tr>\n",
       "  </thead>\n",
       "  <tbody>\n",
       "    <tr>\n",
       "      <th>0</th>\n",
       "      <td>aparna</td>\n",
       "      <td>Bsc</td>\n",
       "      <td>VIT</td>\n",
       "      <td>90</td>\n",
       "    </tr>\n",
       "    <tr>\n",
       "      <th>1</th>\n",
       "      <td>pankaj</td>\n",
       "      <td>Engineering</td>\n",
       "      <td>IIT</td>\n",
       "      <td>70</td>\n",
       "    </tr>\n",
       "    <tr>\n",
       "      <th>2</th>\n",
       "      <td>sudhir</td>\n",
       "      <td>Law</td>\n",
       "      <td>KIIT</td>\n",
       "      <td>80</td>\n",
       "    </tr>\n",
       "    <tr>\n",
       "      <th>3</th>\n",
       "      <td>Geeku</td>\n",
       "      <td>MBBS</td>\n",
       "      <td>AIMS</td>\n",
       "      <td>98</td>\n",
       "    </tr>\n",
       "    <tr>\n",
       "      <th>4</th>\n",
       "      <td>Chiku</td>\n",
       "      <td>Phd</td>\n",
       "      <td>IIIT</td>\n",
       "      <td>76</td>\n",
       "    </tr>\n",
       "    <tr>\n",
       "      <th>5</th>\n",
       "      <td>Jeniffer</td>\n",
       "      <td>Nursing</td>\n",
       "      <td>APPOLO</td>\n",
       "      <td>89</td>\n",
       "    </tr>\n",
       "  </tbody>\n",
       "</table>\n",
       "</div>"
      ],
      "text/plain": [
       "       Name       Degree College  Score\n",
       "0    aparna          Bsc     VIT     90\n",
       "1    pankaj  Engineering     IIT     70\n",
       "2    sudhir          Law    KIIT     80\n",
       "3     Geeku         MBBS    AIMS     98\n",
       "4     Chiku          Phd    IIIT     76\n",
       "5  Jeniffer      Nursing  APPOLO     89"
      ]
     },
     "execution_count": 114,
     "metadata": {},
     "output_type": "execute_result"
    }
   ],
   "source": [
    "df = {\n",
    "    \"Name\": [\"aparna\", \"pankaj\", \"sudhir\", \"Geeku\", \"Chiku\", \"Jeniffer\"], \n",
    "    \"Degree\": [\"Bsc\", \"Engineering\", \"Law\", \"MBBS\", \"Phd\", \"Nursing\"],\n",
    "    \"College\": [\"VIT\", \"IIT\", \"KIIT\", \"AIMS\", \"IIIT\", \"APPOLO\"],\n",
    "    \"Score\": [90, 70, 80, 98, 76, 89]} \n",
    "\n",
    "import pandas as pd\n",
    "dataframe = pd.DataFrame(df)\n",
    "dataframe"
   ]
  },
  {
   "cell_type": "markdown",
   "metadata": {},
   "source": [
    "Q1. Access the Score column. (2 mark)\n",
    "\n",
    "Q2. Use comparison operator to show which students has score greater than 80. (1 mark)\n",
    "\n",
    "Q3. Use logical_and operator to see scores greater than 75 and less than 90. (1 mark)"
   ]
  },
  {
   "cell_type": "code",
   "execution_count": 123,
   "metadata": {},
   "outputs": [
    {
     "data": {
      "text/plain": [
       "0    90\n",
       "1    70\n",
       "2    80\n",
       "3    98\n",
       "4    76\n",
       "5    89\n",
       "Name: Score, dtype: int64"
      ]
     },
     "execution_count": 123,
     "metadata": {},
     "output_type": "execute_result"
    }
   ],
   "source": [
    "# 1\n",
    "## Start code here\n",
    "\n",
    "dataframe[\"Score\"]\n",
    "\n",
    "## End here"
   ]
  },
  {
   "cell_type": "code",
   "execution_count": 131,
   "metadata": {},
   "outputs": [
    {
     "data": {
      "text/html": [
       "<div>\n",
       "<style scoped>\n",
       "    .dataframe tbody tr th:only-of-type {\n",
       "        vertical-align: middle;\n",
       "    }\n",
       "\n",
       "    .dataframe tbody tr th {\n",
       "        vertical-align: top;\n",
       "    }\n",
       "\n",
       "    .dataframe thead th {\n",
       "        text-align: right;\n",
       "    }\n",
       "</style>\n",
       "<table border=\"1\" class=\"dataframe\">\n",
       "  <thead>\n",
       "    <tr style=\"text-align: right;\">\n",
       "      <th></th>\n",
       "      <th>Name</th>\n",
       "      <th>Degree</th>\n",
       "      <th>College</th>\n",
       "      <th>Score</th>\n",
       "    </tr>\n",
       "  </thead>\n",
       "  <tbody>\n",
       "    <tr>\n",
       "      <th>0</th>\n",
       "      <td>aparna</td>\n",
       "      <td>Bsc</td>\n",
       "      <td>VIT</td>\n",
       "      <td>90</td>\n",
       "    </tr>\n",
       "    <tr>\n",
       "      <th>3</th>\n",
       "      <td>Geeku</td>\n",
       "      <td>MBBS</td>\n",
       "      <td>AIMS</td>\n",
       "      <td>98</td>\n",
       "    </tr>\n",
       "    <tr>\n",
       "      <th>5</th>\n",
       "      <td>Jeniffer</td>\n",
       "      <td>Nursing</td>\n",
       "      <td>APPOLO</td>\n",
       "      <td>89</td>\n",
       "    </tr>\n",
       "  </tbody>\n",
       "</table>\n",
       "</div>"
      ],
      "text/plain": [
       "       Name   Degree College  Score\n",
       "0    aparna      Bsc     VIT     90\n",
       "3     Geeku     MBBS    AIMS     98\n",
       "5  Jeniffer  Nursing  APPOLO     89"
      ]
     },
     "execution_count": 131,
     "metadata": {},
     "output_type": "execute_result"
    }
   ],
   "source": [
    "# 2\n",
    "## Start code here\n",
    "\n",
    "dataframe[dataframe[\"Score\"] > 80]\n",
    "\n",
    "\n",
    "## End here"
   ]
  },
  {
   "cell_type": "code",
   "execution_count": 130,
   "metadata": {},
   "outputs": [
    {
     "data": {
      "text/html": [
       "<div>\n",
       "<style scoped>\n",
       "    .dataframe tbody tr th:only-of-type {\n",
       "        vertical-align: middle;\n",
       "    }\n",
       "\n",
       "    .dataframe tbody tr th {\n",
       "        vertical-align: top;\n",
       "    }\n",
       "\n",
       "    .dataframe thead th {\n",
       "        text-align: right;\n",
       "    }\n",
       "</style>\n",
       "<table border=\"1\" class=\"dataframe\">\n",
       "  <thead>\n",
       "    <tr style=\"text-align: right;\">\n",
       "      <th></th>\n",
       "      <th>Name</th>\n",
       "      <th>Degree</th>\n",
       "      <th>College</th>\n",
       "      <th>Score</th>\n",
       "    </tr>\n",
       "  </thead>\n",
       "  <tbody>\n",
       "    <tr>\n",
       "      <th>0</th>\n",
       "      <td>aparna</td>\n",
       "      <td>Bsc</td>\n",
       "      <td>VIT</td>\n",
       "      <td>90</td>\n",
       "    </tr>\n",
       "    <tr>\n",
       "      <th>2</th>\n",
       "      <td>sudhir</td>\n",
       "      <td>Law</td>\n",
       "      <td>KIIT</td>\n",
       "      <td>80</td>\n",
       "    </tr>\n",
       "    <tr>\n",
       "      <th>3</th>\n",
       "      <td>Geeku</td>\n",
       "      <td>MBBS</td>\n",
       "      <td>AIMS</td>\n",
       "      <td>98</td>\n",
       "    </tr>\n",
       "    <tr>\n",
       "      <th>4</th>\n",
       "      <td>Chiku</td>\n",
       "      <td>Phd</td>\n",
       "      <td>IIIT</td>\n",
       "      <td>76</td>\n",
       "    </tr>\n",
       "    <tr>\n",
       "      <th>5</th>\n",
       "      <td>Jeniffer</td>\n",
       "      <td>Nursing</td>\n",
       "      <td>APPOLO</td>\n",
       "      <td>89</td>\n",
       "    </tr>\n",
       "  </tbody>\n",
       "</table>\n",
       "</div>"
      ],
      "text/plain": [
       "       Name   Degree College Score\n",
       "0    aparna      Bsc     VIT    90\n",
       "2    sudhir      Law    KIIT    80\n",
       "3     Geeku     MBBS    AIMS    98\n",
       "4     Chiku      Phd    IIIT    76\n",
       "5  Jeniffer  Nursing  APPOLO    89"
      ]
     },
     "execution_count": 130,
     "metadata": {},
     "output_type": "execute_result"
    }
   ],
   "source": [
    "# 3\n",
    "## Start code here\n",
    "np.logical_and(dataframe[dataframe[\"Score\"] > 75] , dataframe[dataframe[\"Score\"] > 75] )\n",
    "## End here"
   ]
  },
  {
   "cell_type": "code",
   "execution_count": null,
   "metadata": {},
   "outputs": [],
   "source": []
  }
 ],
 "metadata": {
  "kernelspec": {
   "display_name": "Python 3",
   "language": "python",
   "name": "python3"
  },
  "language_info": {
   "codemirror_mode": {
    "name": "ipython",
    "version": 3
   },
   "file_extension": ".py",
   "mimetype": "text/x-python",
   "name": "python",
   "nbconvert_exporter": "python",
   "pygments_lexer": "ipython3",
   "version": "3.6.9"
  }
 },
 "nbformat": 4,
 "nbformat_minor": 4
}
