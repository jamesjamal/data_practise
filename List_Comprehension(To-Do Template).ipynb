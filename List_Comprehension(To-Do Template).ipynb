{
 "cells": [
  {
   "cell_type": "markdown",
   "metadata": {},
   "source": [
    "# List Comprehensions"
   ]
  },
  {
   "cell_type": "markdown",
   "metadata": {},
   "source": [
    ">## Objective: \n",
    "\n",
    "To understand the working of lists comprehensions and implement it using five different examples "
   ]
  },
  {
   "cell_type": "markdown",
   "metadata": {},
   "source": [
    "### List comprehensions"
   ]
  },
  {
   "cell_type": "markdown",
   "metadata": {},
   "source": [
    "List comprehensions are used for creating new lists from other iterables.\n",
    "\n",
    "As list comprehensions return lists, they consist of brackets containing the expression, which is executed for each element along with the `for loop` to iterate over each element.\n",
    "\n",
    "The basic syntax is :\n",
    "\n",
    "     new_list = [expression for_loop_one_or_more conditions]\n",
    "\n",
    "where , \n",
    "\n",
    "**new_list** : The resulting list.\n",
    "\n",
    "**expression** : The operation performed whenever an element fulfills the given condition. The result of this expression is stored in **new_list**\n",
    "\n",
    "**for element** in old_list : Iterates over each element in old_list\n",
    "\n",
    "**if condition** : Apply a condition using an If-statement."
   ]
  },
  {
   "cell_type": "markdown",
   "metadata": {},
   "source": [
    "<img src=\"https://4.bp.blogspot.com/-uRPZqKbIGwQ/XRtgWhC6qqI/AAAAAAAAH0w/--oGnwKsnpo00GwQgH2gV3RPwHwK8uONgCLcBGAs/s1600/comprehension.PNG\">"
   ]
  },
  {
   "cell_type": "markdown",
   "metadata": {},
   "source": [
    "This is very similar to the set builder form in mathematics,\n",
    "\n",
    "**In Set-Builder Forms** :\n",
    "\n",
    "- { x^2: x is a natural number less than 10 }\n",
    "- { x: x is a whole number less than 20, x is even }\n",
    "- { x: x is an alphabet in word ‘MATHEMATICS’, x is a vowel }\n"
   ]
  },
  {
   "cell_type": "code",
   "execution_count": 1,
   "metadata": {},
   "outputs": [
    {
     "name": "stdout",
     "output_type": "stream",
     "text": [
      "[2, 3, 0, 1, 6, 7, 4, 5, 10, 11]\n",
      "[2, 4, 6, 8, 10, 12, 14, 16, 18]\n",
      "['A', 'E', 'A', 'I']\n"
     ]
    }
   ],
   "source": [
    "# The same thing when coded as Lists Comprehensions would be : \n",
    "\n",
    "list1 = [x^2 for x in range(0,10)]\n",
    "list2 = [x for x in range(1,20) if x%2==0]\n",
    "list3 = [x for x in 'MATHEMATICS' if x in ['A','E','I','O','U']]\n",
    "\n",
    "print(list1)\n",
    "print(list2)\n",
    "print(list3)"
   ]
  },
  {
   "cell_type": "markdown",
   "metadata": {},
   "source": [
    "Now that the syntax and working is understood. you'll implement it with the help of examples to get a good grip on this. Lists comprehensions when used properly is a very powerful tool which saves both computing time and amount of code written"
   ]
  },
  {
   "cell_type": "markdown",
   "metadata": {},
   "source": [
    "### Example 1 : \n",
    "\n",
    "To print the common numbers between two lists L1 and L2"
   ]
  },
  {
   "cell_type": "markdown",
   "metadata": {},
   "source": [
    "**NOTE** : The syntax can be written as :\n",
    "\n",
    "     [ output_expression() for(set of values to iterate) if(conditional filtering) ]"
   ]
  },
  {
   "cell_type": "markdown",
   "metadata": {},
   "source": [
    "**TASK 1 : Given L1 and L2 , find the common elements using `for` loop (2 marks)**"
   ]
  },
  {
   "cell_type": "code",
   "execution_count": 3,
   "metadata": {},
   "outputs": [
    {
     "name": "stdout",
     "output_type": "stream",
     "text": [
      "[2, 3, 4]\n"
     ]
    }
   ],
   "source": [
    "\n",
    "L1 = [1, 2, 3, 4]\n",
    "L2 = [2, 3, 4, 5]\n",
    "\n",
    "### START CODE HERE\n",
    "l3= []\n",
    "for x in L1:\n",
    "    if x in L2:\n",
    "        l3.append(x)\n",
    "        \n",
    "print (l3)\n",
    "## Remember to create an empty list first ,  in which you'll append the values\n",
    "\n",
    "### END CODE"
   ]
  },
  {
   "cell_type": "markdown",
   "metadata": {},
   "source": [
    "**TASK 2 : Now try the same thing with List Comprehensions (2 marks)**"
   ]
  },
  {
   "cell_type": "code",
   "execution_count": 8,
   "metadata": {},
   "outputs": [
    {
     "data": {
      "text/plain": [
       "[2, 3, 4]"
      ]
     },
     "execution_count": 8,
     "metadata": {},
     "output_type": "execute_result"
    }
   ],
   "source": [
    "### START CODE HERE : (~1 Line of code)\n",
    "\n",
    "l4 = [ x for x in L1 if x in L2]\n",
    "\n",
    "l4\n",
    "\n",
    "### END CODE"
   ]
  },
  {
   "cell_type": "markdown",
   "metadata": {},
   "source": [
    "**Analyse how convenient list comprehensions is compared to writing functions both in simplicity and computational time**"
   ]
  },
  {
   "cell_type": "markdown",
   "metadata": {},
   "source": [
    "### Example 2 : "
   ]
  },
  {
   "cell_type": "markdown",
   "metadata": {},
   "source": [
    "To print squares of even numbers and cubes of odd numbers from a list `L = [1,2,3,4,5,6,7,8,9,10]` "
   ]
  },
  {
   "cell_type": "markdown",
   "metadata": {},
   "source": [
    "**TASK 3 : Create the list `L` given above using list comprehensions and range function (2 marks)**"
   ]
  },
  {
   "cell_type": "code",
   "execution_count": 13,
   "metadata": {},
   "outputs": [
    {
     "data": {
      "text/plain": [
       "[1, 2, 3, 4, 5, 6, 7, 8, 9, 10]"
      ]
     },
     "execution_count": 13,
     "metadata": {},
     "output_type": "execute_result"
    }
   ],
   "source": [
    "### START CODE HERE : (~1 line of code)\n",
    "\n",
    "L = [*range(1,11)]\n",
    "L\n",
    "\n",
    "### END CODE"
   ]
  },
  {
   "cell_type": "markdown",
   "metadata": {},
   "source": [
    "**TASK 4 : Create a `for` loop and `if` condition to accomplish the task on the above created list (2 marks)**"
   ]
  },
  {
   "cell_type": "code",
   "execution_count": 15,
   "metadata": {},
   "outputs": [
    {
     "data": {
      "text/plain": [
       "[1, 4, 27, 16, 125, 36, 343, 64, 729, 100]"
      ]
     },
     "execution_count": 15,
     "metadata": {},
     "output_type": "execute_result"
    }
   ],
   "source": [
    "### START CODE HERE  :\n",
    "new_list=[]\n",
    "for x in  L:\n",
    "    if x%2==0:\n",
    "        x=x*x\n",
    "        new_list.append(x)\n",
    "    else:\n",
    "        x=x*x*x\n",
    "        new_list.append(x)\n",
    "new_list\n",
    "\n",
    "## Remember to create an empty list first ,  in which you'll append the values\n",
    "\n",
    "### END CODE"
   ]
  },
  {
   "cell_type": "markdown",
   "metadata": {},
   "source": [
    "**TASK 5 : Accomplish the same task using List Comprehensions (2 marks)**"
   ]
  },
  {
   "cell_type": "code",
   "execution_count": 24,
   "metadata": {},
   "outputs": [
    {
     "data": {
      "text/plain": [
       "[1, 4, 27, 16, 125, 36, 343, 64, 729, 100]"
      ]
     },
     "execution_count": 24,
     "metadata": {},
     "output_type": "execute_result"
    }
   ],
   "source": [
    "### START CODE HERE : (~1 Line of code)\n",
    "\n",
    "new_list1 =[x*x  if x%2==0 else x*x*x for x in L]\n",
    "\n",
    "\n",
    "new_list1\n",
    "\n",
    "### END CODE"
   ]
  },
  {
   "cell_type": "markdown",
   "metadata": {},
   "source": [
    "### Example 3 : "
   ]
  },
  {
   "cell_type": "markdown",
   "metadata": {},
   "source": [
    "> #### Tuples\n",
    "\n",
    "To print out all ordered pairs between two lists as tuples. Use previously defined L1 and L2 for this"
   ]
  },
  {
   "cell_type": "markdown",
   "metadata": {},
   "source": [
    "**TASK 6 : Print out all odered pairs between L1 and L2 i.e (a,b) where a belongst to L1 and b to L2 (Cartesian Product) as tuples using comprehension (2 marks)**"
   ]
  },
  {
   "cell_type": "code",
   "execution_count": 47,
   "metadata": {},
   "outputs": [
    {
     "name": "stdout",
     "output_type": "stream",
     "text": [
      "[(1, 2), (1, 3), (1, 4), (1, 5), (2, 2), (2, 3), (2, 4), (2, 5), (3, 2), (3, 3), (3, 4), (3, 5), (4, 2), (4, 3), (4, 4), (4, 5)]"
     ]
    }
   ],
   "source": [
    "### START CODE HERE : (~1 Line of code)\n",
    "\n",
    "cp=[(a,b) for a in L1 for b in  L2]\n",
    "\n",
    "print (cp,end =  \"\")\n",
    "\n",
    "### END CODE"
   ]
  },
  {
   "cell_type": "markdown",
   "metadata": {},
   "source": [
    "**Finally its imperative to understand that lists comprehensions is not only valid for lists but can also be used elsewhere, The below examples would give a better understanding of it**"
   ]
  },
  {
   "cell_type": "markdown",
   "metadata": {},
   "source": [
    "### Example 4 : "
   ]
  },
  {
   "cell_type": "markdown",
   "metadata": {},
   "source": [
    "> #### Dictionaries"
   ]
  },
  {
   "cell_type": "markdown",
   "metadata": {},
   "source": [
    "**TASK 7 : Use lists `L_country` and `L_capital` to create a `dictionary` having L_country as keys and L_capital as values using comprehensions (2 marks)**"
   ]
  },
  {
   "cell_type": "code",
   "execution_count": 52,
   "metadata": {},
   "outputs": [
    {
     "name": "stdout",
     "output_type": "stream",
     "text": [
      "{'India': 'New Delhi', 'Pakistan': 'Islamabad', 'Nepal': 'Kathmandu', 'Bhutan': 'Thimphu', 'China': 'Beijing', 'Bangladesh': 'Dhaka'}\n"
     ]
    }
   ],
   "source": [
    "L_country = ['India', 'Pakistan', 'Nepal', 'Bhutan', 'China', 'Bangladesh']\n",
    "L_capital = ['New Delhi', 'Islamabad','Kathmandu', 'Thimphu', 'Beijing', 'Dhaka']\n",
    "\n",
    "### START CODE HERE : (~1 Line of code)\n",
    "\n",
    "new_dict =dict(zip(L_country,L_capital))\n",
    "\n",
    "print (new_dict)\n",
    "\n",
    "### END CODE"
   ]
  },
  {
   "cell_type": "markdown",
   "metadata": {},
   "source": [
    "### Example 5 :"
   ]
  },
  {
   "cell_type": "markdown",
   "metadata": {},
   "source": [
    "> #### Strings"
   ]
  },
  {
   "cell_type": "markdown",
   "metadata": {},
   "source": [
    "Comprehensions can also be used to conveniently perform operations on strings"
   ]
  },
  {
   "cell_type": "markdown",
   "metadata": {},
   "source": [
    "**TASK 8: Do the following operations on string elements of a list `planets` using a single line of code/comprehension and then print the changed elements (3 marks)**\n",
    "\n",
    "**If planet's name length is less than 6 then ,**\n",
    "- Capitalise the whole word , using '.upper()'\n",
    "- Add '!' at the end of the word \n",
    "\n",
    "eg. venus should be 'VENUS!' "
   ]
  },
  {
   "cell_type": "code",
   "execution_count": 30,
   "metadata": {},
   "outputs": [
    {
     "data": {
      "text/plain": [
       "['VENUS!', 'EARTH!', 'MARS!', 'SATURN!', 'URANUS!']"
      ]
     },
     "execution_count": 30,
     "metadata": {},
     "output_type": "execute_result"
    }
   ],
   "source": [
    "planets = ['Mercury', 'Venus', 'Earth', 'Mars', 'Jupiter', 'Saturn', 'Uranus', 'Neptune']\n",
    "\n",
    "### START CODE HERE : (~1 Line of code)\n",
    "planets=[x.upper() +'!' for x in planets if len(x)<=6]\n",
    "\n",
    "planets\n",
    "\n",
    "### END CODE"
   ]
  },
  {
   "cell_type": "markdown",
   "metadata": {},
   "source": [
    "#### Transpose of Matrix using Nested Loops\n",
    "\n",
    "**TASK 9 : Do the following operation on transpose of a 2 row and 4 column matrix using a lines of comprehension and\n",
    "then print the changed elements.(3 marks)**\n",
    "\n",
    "Transpose 2 row X 4 column matrix into 4 row X 2 columns"
   ]
  },
  {
   "cell_type": "code",
   "execution_count": 41,
   "metadata": {},
   "outputs": [
    {
     "name": "stdout",
     "output_type": "stream",
     "text": [
      "[[1 4]\n",
      " [2 5]\n",
      " [3 6]\n",
      " [4 8]]\n"
     ]
    }
   ],
   "source": [
    "transposed = []\n",
    "matrix = [[1, 2, 3, 4], [4, 5, 6, 8]]\n",
    "import numpy as np\n",
    "### START CODE HERE :\n",
    "\n",
    "transposed = np.transpose(matrix)\n",
    "        \n",
    "print (transposed)\n",
    "\n",
    "\n",
    "### END CODE"
   ]
  },
  {
   "cell_type": "markdown",
   "metadata": {},
   "source": [
    "## Conclusion: \n",
    "\n",
    "Understand the usefulness and different applications of lists comprehensions"
   ]
  }
 ],
 "metadata": {
  "kernelspec": {
   "display_name": "Python 3",
   "language": "python",
   "name": "python3"
  },
  "language_info": {
   "codemirror_mode": {
    "name": "ipython",
    "version": 3
   },
   "file_extension": ".py",
   "mimetype": "text/x-python",
   "name": "python",
   "nbconvert_exporter": "python",
   "pygments_lexer": "ipython3",
   "version": "3.6.9"
  }
 },
 "nbformat": 4,
 "nbformat_minor": 2
}
